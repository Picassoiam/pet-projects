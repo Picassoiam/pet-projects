{
 "cells": [
  {
   "cell_type": "code",
   "execution_count": 6,
   "metadata": {},
   "outputs": [],
   "source": [
    "import csv\n",
    "import os\n",
    "from collections import defaultdict\n",
    "\n",
    "def separate_csv_by_organization(input_file, output_directory, organization_column):\n",
    "    # Create the output directory if it doesn't exist\n",
    "    os.makedirs(output_directory, exist_ok=True)\n",
    "\n",
    "    # Dictionary to store data for each organization\n",
    "    org_data = defaultdict(list)\n",
    "\n",
    "    # Read the input CSV file\n",
    "    with open(input_file, 'r', newline='') as csvfile:\n",
    "        reader = csv.DictReader(csvfile)\n",
    "        \n",
    "        # Check if the organization column exists\n",
    "        if organization_column not in reader.fieldnames:\n",
    "            raise ValueError(f\"Column '{organization_column}' not found in the CSV file.\")\n",
    "\n",
    "        # Group rows by organization\n",
    "        for row in reader:\n",
    "            org = row[organization_column]\n",
    "            org_data[org].append(row)\n",
    "\n",
    "    # Write separate CSV files for each organization\n",
    "    for org, data in org_data.items():\n",
    "        output_file = os.path.join(output_directory, f\"{org.replace('/', '_')}_data.csv\")\n",
    "        with open(output_file, 'w', newline='') as csvfile:\n",
    "            writer = csv.DictWriter(csvfile, fieldnames=reader.fieldnames)\n",
    "            writer.writeheader()\n",
    "            writer.writerows(data)\n",
    "\n",
    "    print(f\"Separated data into {len(org_data)} files in the '{output_directory}' directory.\")"
   ]
  },
  {
   "cell_type": "code",
   "execution_count": 7,
   "metadata": {},
   "outputs": [],
   "source": [
    "# Example usage\n",
    "input_file = 'sldb.csv'  # Replace with your input file name\n",
    "output_directory = 'Scheme Loan Database'  # Replace with your desired output directory\n",
    "organization_column = 'employer'  # Replace with the name of your organization column\n"
   ]
  },
  {
   "cell_type": "code",
   "execution_count": 8,
   "metadata": {},
   "outputs": [
    {
     "name": "stdout",
     "output_type": "stream",
     "text": [
      "Separated data into 284 files in the 'Scheme Loan Database' directory.\n"
     ]
    }
   ],
   "source": [
    "separate_csv_by_organization(input_file, output_directory, organization_column)"
   ]
  }
 ],
 "metadata": {
  "kernelspec": {
   "display_name": "venv",
   "language": "python",
   "name": "python3"
  },
  "language_info": {
   "codemirror_mode": {
    "name": "ipython",
    "version": 3
   },
   "file_extension": ".py",
   "mimetype": "text/x-python",
   "name": "python",
   "nbconvert_exporter": "python",
   "pygments_lexer": "ipython3",
   "version": "3.9.13"
  }
 },
 "nbformat": 4,
 "nbformat_minor": 2
}
